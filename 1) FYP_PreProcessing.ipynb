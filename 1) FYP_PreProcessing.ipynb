{
 "cells": [
  {
   "cell_type": "markdown",
   "id": "88b87b82-819d-4302-befa-1f1f98526ea0",
   "metadata": {
    "id": "88b87b82-819d-4302-befa-1f1f98526ea0"
   },
   "source": [
    "# Pre-processing"
   ]
  },
  {
   "cell_type": "markdown",
   "id": "543697c5-480d-4211-a9ba-08e7fdca12d4",
   "metadata": {
    "id": "543697c5-480d-4211-a9ba-08e7fdca12d4"
   },
   "source": [
    "### 1) Convert all DICOM images to .jpg format\n",
    "\n",
    "---\n",
    "Script Starts from there and here is the code to convert .dcm file to .jpg file\n",
    "Code actually save the .jpg file with same name as of .dcm file\n",
    "It place the converted .jpg file in the same input folder and then It removes the .dcm files from the curent folder"
   ]
  },
  {
   "cell_type": "code",
   "execution_count": null,
   "id": "87e88439-a7c1-4e7d-ad89-4c4a5910e3ea",
   "metadata": {
    "id": "87e88439-a7c1-4e7d-ad89-4c4a5910e3ea",
    "outputId": "a8fc4cb1-8154-45ac-8891-2d5e796eab6f"
   },
   "outputs": [
    {
     "name": "stdout",
     "output_type": "stream",
     "text": [
      "Converted All T1w type Images to .jpg\n",
      "Remove all .dcm files from T1w Folders\n",
      "Converted All T1wCE type Images to .jpg\n",
      "Remove all .dcm files from T1wCE Folders\n",
      "Converted All T2w type Images to .jpg\n",
      "Remove all .dcm files from T2w Folders\n",
      "Converted All FLAIR type Images to .jpg\n",
      "Remove all .dcm files from FLAIR Folders\n"
     ]
    }
   ],
   "source": [
    "import os\n",
    "import cv2 as cv\n",
    "import numpy as np\n",
    "import pydicom as PDCM\n",
    "\n",
    "def Dicom_to_Image(Path):\n",
    "    DCM_Img = PDCM.read_file(Path)\n",
    "\n",
    "    rows = DCM_Img.get(0x00280010).value #Get number of rows from tag (0028, 0010)\n",
    "    cols = DCM_Img.get(0x00280011).value #Get number of cols from tag (0028, 0011)\n",
    "\n",
    "    Instance_Number = int(DCM_Img.get(0x00200013).value) #Get actual slice instance number from tag (0020, 0013)\n",
    "\n",
    "    Window_Center = int(DCM_Img.get(0x00281050).value) #Get window center from tag (0028, 1050)\n",
    "    Window_Width = int(DCM_Img.get(0x00281051).value) #Get window width from tag (0028, 1051)\n",
    "\n",
    "    Window_Max = int(Window_Center + Window_Width / 2)\n",
    "    Window_Min = int(Window_Center - Window_Width / 2)\n",
    "\n",
    "    if (DCM_Img.get(0x00281052) is None):\n",
    "        Rescale_Intercept = 0\n",
    "    else:\n",
    "        Rescale_Intercept = int(DCM_Img.get(0x00281052).value)\n",
    "\n",
    "    if (DCM_Img.get(0x00281053) is None):\n",
    "        Rescale_Slope = 1\n",
    "    else:\n",
    "        Rescale_Slope = int(DCM_Img.get(0x00281053).value)\n",
    "\n",
    "    New_Img = np.zeros((rows, cols), np.uint8)\n",
    "    Pixels = DCM_Img.pixel_array\n",
    "\n",
    "    for i in range(0, rows):\n",
    "        for j in range(0, cols):\n",
    "            Pix_Val = Pixels[i][j]\n",
    "            Rescale_Pix_Val = Pix_Val * Rescale_Slope + Rescale_Intercept\n",
    "\n",
    "            if (Rescale_Pix_Val > Window_Max): #if intensity is greater than max window\n",
    "                New_Img[i][j] = 255\n",
    "            elif (Rescale_Pix_Val < Window_Min): #if intensity is less than min window\n",
    "                New_Img[i][j] = 0\n",
    "            else:\n",
    "                New_Img[i][j] = int(((Rescale_Pix_Val - Window_Min) / (Window_Max - Window_Min)) * 255) #Normalize the intensities\n",
    "\n",
    "    return New_Img, Instance_Number\n",
    "# --------------------------------------------------\n",
    "\n",
    "Input_Folder_path = 'train1'\n",
    "\n",
    "def main_T1w():\n",
    "    for file in os.listdir(Input_Folder_path):\n",
    "        sub_fold = os.path.join(\"\", file)\n",
    "        print(\"Converting Patient No. :: \",sub_fold)\n",
    "        Input_Folder = Input_Folder_path+'/'+sub_fold+'/T1w'\n",
    "        Input_Image_List = os.listdir(Input_Folder)\n",
    "        for i in range(0, len(Input_Image_List)):\n",
    "            Output_Image, Instance_Number = Dicom_to_Image(Input_Folder + '/' + Input_Image_List[i])\n",
    "            cv.imwrite(Input_Folder + '/' + str(Instance_Number - 1).zfill(4) + '.jpg', Output_Image)\n",
    "    print(\"Converted All T1w type Images to .jpg\")\n",
    "# ------------------------------------------------------------\n",
    "    files_in_directory = os.listdir(Input_Folder)\n",
    "    filtered_files = [file for file in files_in_directory if file.endswith(\".dcm\")]\n",
    "    for file in filtered_files:\n",
    "        path_to_file = os.path.join(Input_Folder, file)\n",
    "        os.remove(path_to_file)\n",
    "    print('Remove all .dcm files from T1w Folders')\n",
    "# --------------------------------------------------------------\n",
    "\n",
    "def main_T1wCE():\n",
    "    for file in os.listdir(Input_Folder_path):\n",
    "        sub_fold = os.path.join(\"\", file)\n",
    "        print(sub_fold)\n",
    "        Input_Folder = Input_Folder_path+'/'+sub_fold+'/T1wCE'\n",
    "        Input_Image_List = os.listdir(Input_Folder)\n",
    "        for i in range(0, len(Input_Image_List)):\n",
    "            Output_Image, Instance_Number = Dicom_to_Image(Input_Folder + '/' + Input_Image_List[i])\n",
    "            cv.imwrite(Input_Folder + '/' + str(Instance_Number - 1).zfill(4) + '.jpg', Output_Image)\n",
    "    print(\"Converted All T1wCE type Images to .jpg\")\n",
    "# ------------------------------------------------------------\n",
    "    files_in_directory = os.listdir(Input_Folder)\n",
    "    filtered_files = [file for file in files_in_directory if file.endswith(\".dcm\")]\n",
    "    for file in filtered_files:\n",
    "        path_to_file = os.path.join(Input_Folder, file)\n",
    "        os.remove(path_to_file)\n",
    "    print('Remove all .dcm files from T1wCE Folders')\n",
    "# --------------------------------------------------------------\n",
    "\n",
    "def main_T2w():\n",
    "    for file in os.listdir(Input_Folder_path):\n",
    "        sub_fold = os.path.join(\"\", file)\n",
    "        print(sub_fold)\n",
    "        Input_Folder = Input_Folder_path+'/'+sub_fold+'/T2w'\n",
    "        Input_Image_List = os.listdir(Input_Folder)\n",
    "        for i in range(0, len(Input_Image_List)):\n",
    "            Output_Image, Instance_Number = Dicom_to_Image(Input_Folder + '/' + Input_Image_List[i])\n",
    "            cv.imwrite(Input_Folder + '/' + str(Instance_Number - 1).zfill(4) + '.jpg', Output_Image)\n",
    "    print(\"Converted All T2w type Images to .jpg\")\n",
    "# ------------------------------------------------------------\n",
    "    files_in_directory = os.listdir(Input_Folder)\n",
    "    filtered_files = [file for file in files_in_directory if file.endswith(\".dcm\")]\n",
    "    for file in filtered_files:\n",
    "        path_to_file = os.path.join(Input_Folder, file)\n",
    "        os.remove(path_to_file)\n",
    "    print('Remove all .dcm files from T2w Folders')\n",
    "# --------------------------------------------------------------\n",
    "\n",
    "def main_FLAIR():\n",
    "    for file in os.listdir(Input_Folder_path):\n",
    "        sub_fold = os.path.join(\"\", file)\n",
    "        print(sub_fold)\n",
    "        Input_Folder = Input_Folder_path+'/'+sub_fold+'/FLAIR'\n",
    "        Input_Image_List = os.listdir(Input_Folder)\n",
    "        for i in range(0, len(Input_Image_List)):\n",
    "            Output_Image, Instance_Number = Dicom_to_Image(Input_Folder + '/' + Input_Image_List[i])\n",
    "            cv.imwrite(Input_Folder + '/' + str(Instance_Number - 1).zfill(4) + '.jpg', Output_Image)\n",
    "    print(\"Converted All FLAIR type Images to .jpg\")\n",
    "# ------------------------------------------------------------\n",
    "    files_in_directory = os.listdir(Input_Folder)\n",
    "    filtered_files = [file for file in files_in_directory if file.endswith(\".dcm\")]\n",
    "    for file in filtered_files:\n",
    "        path_to_file = os.path.join(Input_Folder, file)\n",
    "        os.remove(path_to_file)\n",
    "    print('Remove all .dcm files from FLAIR Folders')\n",
    "# --------------------------------------------------------------\n",
    "\n",
    "if __name__ == \"__main__\":\n",
    "        main_T1w()\n",
    "        main_T1wCE()\n",
    "        main_T2w()\n",
    "        main_FLAIR()"
   ]
  },
  {
   "cell_type": "markdown",
   "id": "bba76077-6bbf-48d1-aa4e-319e6cd9d6bc",
   "metadata": {
    "id": "bba76077-6bbf-48d1-aa4e-319e6cd9d6bc"
   },
   "source": [
    "# 2)Filter High Informative Images\n",
    "Each type of images for each patient contain black images or images with less brain part or no brain part images, \n",
    "This is the Second script which filters the high informative images, and remove less brain part or low brain part while paying special attention to labels\n"
   ]
  },
  {
   "cell_type": "code",
   "execution_count": null,
   "id": "ea202b0f-10ce-4dcf-98e9-095edf32764c",
   "metadata": {
    "id": "ea202b0f-10ce-4dcf-98e9-095edf32764c",
    "outputId": "25d061db-57b1-480e-b94a-7f1bea9575c1"
   },
   "outputs": [
    {
     "name": "stdout",
     "output_type": "stream",
     "text": [
      "Filter T1w type images \n",
      "Filter T1wCE type images \n",
      "Filter T2w type images \n",
      "Filter FLAIR type images \n"
     ]
    }
   ],
   "source": [
    "from PIL import Image\n",
    "import numpy as np\n",
    "import os\n",
    "Input_Folder_path = 'train/'\n",
    "for file in os.listdir(Input_Folder_path):\n",
    "    sub_fold = os.path.join(\"\", file)\n",
    "    print(sub_fold)\n",
    "    path = Input_Folder_path+'/'+sub_fold+'/T1w'\n",
    "    for filename in os.listdir(path):\n",
    "        images = Image.open(os.path.join(path,filename))\n",
    "        if np.mean(images) < 10: # take mean of pixels of each image and filter high informative images \n",
    "            os.remove(os.path.join(path, filename))\n",
    "    print(\"Filter T1w type images \")        \n",
    "# ------------------------------------------------------------------    \n",
    "    path = Input_Folder_path+'/'+sub_fold+'/T1wCE'\n",
    "    for filename in os.listdir(path):\n",
    "        images = Image.open(os.path.join(path,filename))\n",
    "        if np.mean(images) < 10:\n",
    "            os.remove(os.path.join(path, filename))\n",
    "    print(\"Filter T1wCE type images \")        \n",
    "# ------------------------------------------------------------------            \n",
    "    path = Input_Folder_path+'/'+sub_fold+'/T2w'\n",
    "    for filename in os.listdir(path):\n",
    "        images = Image.open(os.path.join(path,filename))\n",
    "        if np.mean(images) < 10:\n",
    "            os.remove(os.path.join(path, filename))\n",
    "    print(\"Filter T2w type images \")        \n",
    "# ------------------------------------------------------------------\n",
    "    path = Input_Folder_path+'/'+sub_fold+'/FLAIR'\n",
    "    for filename in os.listdir(path):\n",
    "        images = Image.open(os.path.join(path,filename))\n",
    "        if np.mean(images) < 10:\n",
    "            os.remove(os.path.join(path, filename))\n",
    "    print(\"Filter FLAIR type images \")\n"
   ]
  },
  {
   "cell_type": "markdown",
   "id": "f8caa39e-1eb5-4d3f-8eed-b6e9f2600322",
   "metadata": {
    "id": "f8caa39e-1eb5-4d3f-8eed-b6e9f2600322"
   },
   "source": [
    "# 3) Make folders of label data sets\n",
    "Here we have a CSV file, which contain the labels with each patient ID, So we make labels for each patient whether it belongs to class 1-(Methyl) or class 0-(Un-methyl)"
   ]
  },
  {
   "cell_type": "code",
   "execution_count": null,
   "id": "f3e2bea3-04cb-480c-adeb-426b9b24ae95",
   "metadata": {
    "id": "f3e2bea3-04cb-480c-adeb-426b9b24ae95"
   },
   "outputs": [],
   "source": [
    "import shutil\n",
    "import pandas as pd\n",
    "import os"
   ]
  },
  {
   "cell_type": "code",
   "execution_count": null,
   "id": "b35f77bf-edac-48a6-a615-a632fd89c557",
   "metadata": {
    "id": "b35f77bf-edac-48a6-a615-a632fd89c557"
   },
   "outputs": [],
   "source": [
    "df = pd.read_csv('train_labels.csv')"
   ]
  },
  {
   "cell_type": "code",
   "execution_count": null,
   "id": "a5ae8a0a-2fa7-4d31-abb5-0481f50d7eb4",
   "metadata": {
    "id": "a5ae8a0a-2fa7-4d31-abb5-0481f50d7eb4"
   },
   "outputs": [],
   "source": [
    "name_zero_folders = df[df['MGMT_value'] == 0]\n",
    "name_one_folders = df[df['MGMT_value'] == 1]"
   ]
  },
  {
   "cell_type": "code",
   "execution_count": null,
   "id": "d1b1321b-5f55-488c-bb57-09c406b7b770",
   "metadata": {
    "id": "d1b1321b-5f55-488c-bb57-09c406b7b770"
   },
   "outputs": [],
   "source": [
    "source = \"/home/ibrar/train/\"\n",
    "destination1 = '/home/ibrar/MGMT Training/zero/'\n",
    "destination2 = '/home/ibrar/MGMT Training/one/'"
   ]
  },
  {
   "cell_type": "code",
   "execution_count": null,
   "id": "a4e6ae47-0d6b-4a52-abd8-c1957be515ed",
   "metadata": {
    "id": "a4e6ae47-0d6b-4a52-abd8-c1957be515ed"
   },
   "outputs": [],
   "source": [
    "req = os.listdir(source)"
   ]
  },
  {
   "cell_type": "code",
   "execution_count": null,
   "id": "e5b9c21a-f203-454b-96bc-6b2d00bba8b3",
   "metadata": {
    "id": "e5b9c21a-f203-454b-96bc-6b2d00bba8b3"
   },
   "outputs": [],
   "source": [
    "for r in req:\n",
    "    if int(r) in name_zero_folders:\n",
    "        print(source + '/'+ r)\n",
    "        print(destination1)\n",
    "        shutil.move(source + '/'+ r, destination1)"
   ]
  },
  {
   "cell_type": "code",
   "execution_count": null,
   "id": "4daf7fed-5a7e-4b03-aaf7-587f0ab741ba",
   "metadata": {
    "id": "4daf7fed-5a7e-4b03-aaf7-587f0ab741ba"
   },
   "outputs": [],
   "source": [
    "for r in req:\n",
    "    if int(r) in name_one_folders:\n",
    "        print(source + '/'+ r)\n",
    "        print(destination2)\n",
    "        shutil.move(source + '/'+ r, destination2)"
   ]
  },
  {
   "cell_type": "markdown",
   "id": "f25f1b92-3961-49e2-bcc0-3e0e0a34fe6d",
   "metadata": {
    "id": "f25f1b92-3961-49e2-bcc0-3e0e0a34fe6d"
   },
   "source": [
    "### Separat T1w type images \n",
    "As we are gonna implement model for T1w type of images for FYP-1"
   ]
  },
  {
   "cell_type": "code",
   "execution_count": null,
   "id": "343c3603-5125-4ce2-981c-2fbef8357628",
   "metadata": {
    "id": "343c3603-5125-4ce2-981c-2fbef8357628"
   },
   "outputs": [],
   "source": [
    "import shutil\n",
    "import os\n",
    "source = '/home/ibrar/FInal Year Project/MGMT Labeled dataset/one'\n",
    "def main_T1w():\n",
    "    for file in os.listdir(source):\n",
    "        sub_fold = os.path.join(\"\", file)\n",
    "        Input_Folder = source+'/'+sub_fold+'/FLAIR'\n",
    "        shutil.rmtree(Input_Folder)\n",
    "        Input_Folder = source+'/'+sub_fold+'/T1wCE'\n",
    "        shutil.rmtree(Input_Folder)\n",
    "        Input_Folder = source+'/'+sub_fold+'/T2w'\n",
    "        shutil.rmtree(Input_Folder)\n",
    "if __name__ == \"__main__\":\n",
    "        main_T1w()\n",
    "        \n",
    "        \n",
    "source = '/home/ibrar/FInal Year Project/MGMT Labeled dataset/zero'\n",
    "def main_T1w():\n",
    "    for file in os.listdir(source):\n",
    "        sub_fold = os.path.join(\"\", file)\n",
    "        Input_Folder = source+'/'+sub_fold+'/FLAIR'\n",
    "        shutil.rmtree(Input_Folder)\n",
    "        Input_Folder = source+'/'+sub_fold+'/T1wCE'\n",
    "        shutil.rmtree(Input_Folder)\n",
    "        Input_Folder = source+'/'+sub_fold+'/T2w'\n",
    "        shutil.rmtree(Input_Folder)\n",
    "if __name__ == \"__main__\":\n",
    "        main_T1w()"
   ]
  },
  {
   "cell_type": "markdown",
   "id": "52ae9a0e-0b52-4e49-b3c6-11d236ff90dd",
   "metadata": {
    "id": "52ae9a0e-0b52-4e49-b3c6-11d236ff90dd"
   },
   "source": [
    "### Convert all images size to 224*224\n",
    "The dataset contain images of different sizes, so converted all images to 128*128"
   ]
  },
  {
   "cell_type": "code",
   "execution_count": null,
   "id": "03e41e41-0b75-4f87-bb40-71cfbcadd120",
   "metadata": {
    "id": "03e41e41-0b75-4f87-bb40-71cfbcadd120"
   },
   "outputs": [],
   "source": [
    "def resize(path):\n",
    "    for item in dirs:\n",
    "        if os.path.isfile(path+item):\n",
    "            im = Image.open(path+item)\n",
    "            f, e = os.path.splitext(path+item)\n",
    "            imResize = im.resize((224,224), Image.ANTIALIAS)\n",
    "            imResize.save(f+'.jpg' , 'JPEG', quality=90)\n",
    "\n",
    "source = '/home/ibrar/FInal Year Project/MGMT Labeled dataset/one'\n",
    "def main_T1w():\n",
    "    for file in os.listdir(source):\n",
    "        sub_fold = os.path.join(\"\", file)\n",
    "        Input_Folder = source+'/'+sub_fold+'/T1w/'\n",
    "        print(Input_Folder)\n",
    "        resize(Input_Folder)\n",
    "if __name__ == \"__main__\":\n",
    "        main_T1w()\n",
    "        \n",
    "        \n",
    "source = '/home/ibrar/FInal Year Project/MGMT Labeled dataset/zero'\n",
    "def main_T1w():\n",
    "    for file in os.listdir(source):\n",
    "        sub_fold = os.path.join(\"\", file)\n",
    "        Input_Folder = source+'/'+sub_fold+'/T1w/'\n",
    "        print(Input_Folder)\n",
    "        resize(Input_Folder)\n",
    "if __name__ == \"__main__\":\n",
    "        main_T1w()"
   ]
  }
 ],
 "metadata": {
  "colab": {
   "provenance": []
  },
  "kernelspec": {
   "display_name": "Python 3 (ipykernel)",
   "language": "python",
   "name": "python3"
  },
  "language_info": {
   "codemirror_mode": {
    "name": "ipython",
    "version": 3
   },
   "file_extension": ".py",
   "mimetype": "text/x-python",
   "name": "python",
   "nbconvert_exporter": "python",
   "pygments_lexer": "ipython3",
   "version": "3.10.7"
  }
 },
 "nbformat": 4,
 "nbformat_minor": 5
}
